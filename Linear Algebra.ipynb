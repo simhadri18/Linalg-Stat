{
 "cells": [
  {
   "cell_type": "code",
   "execution_count": 1,
   "id": "817dad13",
   "metadata": {},
   "outputs": [],
   "source": [
    "#Addition of two vectors"
   ]
  },
  {
   "cell_type": "code",
   "execution_count": 3,
   "id": "da8ff984",
   "metadata": {},
   "outputs": [
    {
     "name": "stdout",
     "output_type": "stream",
     "text": [
      "[2 3]\n",
      "[7 4]\n"
     ]
    }
   ],
   "source": [
    "import numpy as np\n",
    "a=np.array([2,3])\n",
    "b=np.array([7,4])\n",
    "print(a)\n",
    "print(b)"
   ]
  },
  {
   "cell_type": "code",
   "execution_count": 4,
   "id": "8ed55d2d",
   "metadata": {},
   "outputs": [
    {
     "name": "stdout",
     "output_type": "stream",
     "text": [
      "[9 7]\n"
     ]
    }
   ],
   "source": [
    "print(a+b)"
   ]
  },
  {
   "cell_type": "code",
   "execution_count": 9,
   "id": "b59f2857",
   "metadata": {
    "scrolled": true
   },
   "outputs": [
    {
     "data": {
      "text/plain": [
       "array([9, 7])"
      ]
     },
     "execution_count": 9,
     "metadata": {},
     "output_type": "execute_result"
    }
   ],
   "source": [
    "a+b"
   ]
  },
  {
   "cell_type": "code",
   "execution_count": 11,
   "id": "5138f8a1",
   "metadata": {},
   "outputs": [],
   "source": [
    "#Subtract two vectors"
   ]
  },
  {
   "cell_type": "code",
   "execution_count": 12,
   "id": "68c05aa0",
   "metadata": {},
   "outputs": [
    {
     "name": "stdout",
     "output_type": "stream",
     "text": [
      "[-5 -1]\n"
     ]
    }
   ],
   "source": [
    "print(a-b)"
   ]
  },
  {
   "cell_type": "code",
   "execution_count": 13,
   "id": "b472bc23",
   "metadata": {},
   "outputs": [
    {
     "name": "stdout",
     "output_type": "stream",
     "text": [
      "[2 3]\n",
      "2\n"
     ]
    },
    {
     "data": {
      "text/plain": [
       "array([4, 6])"
      ]
     },
     "execution_count": 13,
     "metadata": {},
     "output_type": "execute_result"
    }
   ],
   "source": [
    "#scalar multiplication\n",
    "print(a)\n",
    "b=2\n",
    "print(b)\n",
    "a*b"
   ]
  },
  {
   "cell_type": "code",
   "execution_count": 17,
   "id": "88a4cdcc",
   "metadata": {
    "scrolled": true
   },
   "outputs": [
    {
     "name": "stdout",
     "output_type": "stream",
     "text": [
      "[2 4]\n",
      "[5 2]\n",
      "18\n"
     ]
    },
    {
     "data": {
      "text/plain": [
       "18"
      ]
     },
     "execution_count": 17,
     "metadata": {},
     "output_type": "execute_result"
    }
   ],
   "source": [
    "#dot product of two vectors is same as multiplication\n",
    "a=np.array([2,4])\n",
    "b=np.array([5,2])\n",
    "print(a)\n",
    "print(b)\n",
    "print(2*5+4*2)\n",
    "np.dot(a,b)"
   ]
  },
  {
   "cell_type": "code",
   "execution_count": 25,
   "id": "32839462",
   "metadata": {},
   "outputs": [],
   "source": [
    "#matrics addition"
   ]
  },
  {
   "cell_type": "code",
   "execution_count": 27,
   "id": "30adea82",
   "metadata": {},
   "outputs": [
    {
     "name": "stdout",
     "output_type": "stream",
     "text": [
      "[[4 3 2]\n",
      " [6 3 7]\n",
      " [4 9 8]]\n",
      "[[3 4 2]\n",
      " [9 1 7]\n",
      " [6 4 8]]\n"
     ]
    },
    {
     "data": {
      "text/plain": [
       "array([[ 7,  7,  4],\n",
       "       [15,  4, 14],\n",
       "       [10, 13, 16]])"
      ]
     },
     "execution_count": 27,
     "metadata": {},
     "output_type": "execute_result"
    }
   ],
   "source": [
    "a=np.array([[4,3,2],[6,3,7],[4,9,8]])\n",
    "b=np.array([[3,4,2],[9,1,7],[6,4,8]])\n",
    "print(a)\n",
    "print(b)\n",
    "a+b"
   ]
  },
  {
   "cell_type": "code",
   "execution_count": 30,
   "id": "9a6d7f6c",
   "metadata": {},
   "outputs": [
    {
     "name": "stdout",
     "output_type": "stream",
     "text": [
      "[[4 3 2]\n",
      " [6 3 7]\n",
      " [4 9 8]]= a\n",
      "\n",
      "[[3 4 2]\n",
      " [9 1 7]\n",
      " [6 4 8]]= b\n",
      "\n"
     ]
    },
    {
     "data": {
      "text/plain": [
       "array([[ 1, -1,  0],\n",
       "       [-3,  2,  0],\n",
       "       [-2,  5,  0]])"
      ]
     },
     "execution_count": 30,
     "metadata": {},
     "output_type": "execute_result"
    }
   ],
   "source": [
    "#matrics subtraction\n",
    "a=np.array([[4,3,2],[6,3,7],[4,9,8]])\n",
    "b=np.array([[3,4,2],[9,1,7],[6,4,8]])\n",
    "print(a,end=\"= a\\n\\n\")\n",
    "print(b,end=\"= b\\n\\n\")\n",
    "a-b"
   ]
  },
  {
   "cell_type": "code",
   "execution_count": 31,
   "id": "a2e6274d",
   "metadata": {},
   "outputs": [
    {
     "data": {
      "text/plain": [
       "array([[16, 12,  8],\n",
       "       [24, 12, 28],\n",
       "       [16, 36, 32]])"
      ]
     },
     "execution_count": 31,
     "metadata": {},
     "output_type": "execute_result"
    }
   ],
   "source": [
    "#scalar multiplication with matrix\n",
    "s=4\n",
    "s*a"
   ]
  },
  {
   "cell_type": "code",
   "execution_count": 32,
   "id": "7e26d061",
   "metadata": {},
   "outputs": [
    {
     "data": {
      "text/plain": [
       "array([ 87, 117])"
      ]
     },
     "execution_count": 32,
     "metadata": {},
     "output_type": "execute_result"
    }
   ],
   "source": [
    "#matrix multiplication with vector\n",
    "a=np.array([[4,5,6],[6,3,9]])\n",
    "b=np.array([6,3,8])\n",
    "np.dot(a,b)"
   ]
  },
  {
   "cell_type": "code",
   "execution_count": 35,
   "id": "6bb6cdfd",
   "metadata": {},
   "outputs": [
    {
     "data": {
      "text/plain": [
       "array([[68, 67, 80],\n",
       "       [84, 78, 93]])"
      ]
     },
     "execution_count": 35,
     "metadata": {},
     "output_type": "execute_result"
    }
   ],
   "source": [
    "#matrix to matrix multiplication\n",
    "a=np.array([[4,5,6],[6,3,9]])\n",
    "b=np.array([[6,3,8],[4,5,6],[4,5,3]])\n",
    "np.dot(a,b)"
   ]
  },
  {
   "cell_type": "code",
   "execution_count": 38,
   "id": "6864d371",
   "metadata": {},
   "outputs": [
    {
     "ename": "ValueError",
     "evalue": "operands could not be broadcast together with shapes (2,3) (3,3) ",
     "output_type": "error",
     "traceback": [
      "\u001b[1;31m---------------------------------------------------------------------------\u001b[0m",
      "\u001b[1;31mValueError\u001b[0m                                Traceback (most recent call last)",
      "Input \u001b[1;32mIn [38]\u001b[0m, in \u001b[0;36m<cell line: 3>\u001b[1;34m()\u001b[0m\n\u001b[0;32m      1\u001b[0m a\u001b[38;5;241m=\u001b[39mnp\u001b[38;5;241m.\u001b[39marray([[\u001b[38;5;241m4\u001b[39m,\u001b[38;5;241m5\u001b[39m,\u001b[38;5;241m6\u001b[39m],[\u001b[38;5;241m6\u001b[39m,\u001b[38;5;241m3\u001b[39m,\u001b[38;5;241m9\u001b[39m]])\n\u001b[0;32m      2\u001b[0m b\u001b[38;5;241m=\u001b[39mnp\u001b[38;5;241m.\u001b[39marray([[\u001b[38;5;241m6\u001b[39m,\u001b[38;5;241m3\u001b[39m,\u001b[38;5;241m8\u001b[39m],[\u001b[38;5;241m4\u001b[39m,\u001b[38;5;241m5\u001b[39m,\u001b[38;5;241m6\u001b[39m],[\u001b[38;5;241m4\u001b[39m,\u001b[38;5;241m5\u001b[39m,\u001b[38;5;241m3\u001b[39m]])\n\u001b[1;32m----> 3\u001b[0m \u001b[43ma\u001b[49m\u001b[38;5;241;43m*\u001b[39;49m\u001b[43mb\u001b[49m\n",
      "\u001b[1;31mValueError\u001b[0m: operands could not be broadcast together with shapes (2,3) (3,3) "
     ]
    }
   ],
   "source": [
    "a=np.array([[4,5,6],[6,3,9]])\n",
    "b=np.array([[6,3,8],[4,5,6],[4,5,3]])\n",
    "a*b"
   ]
  },
  {
   "cell_type": "code",
   "execution_count": 39,
   "id": "2f5a6bf0",
   "metadata": {},
   "outputs": [
    {
     "data": {
      "text/plain": [
       "array([[24, 15, 48],\n",
       "       [24, 15, 54]])"
      ]
     },
     "execution_count": 39,
     "metadata": {},
     "output_type": "execute_result"
    }
   ],
   "source": [
    "a=np.array([[4,5,6],[6,3,9]])\n",
    "b=np.array([[6,3,8],[4,5,6]])\n",
    "a*b"
   ]
  },
  {
   "cell_type": "code",
   "execution_count": 42,
   "id": "7131facf",
   "metadata": {},
   "outputs": [
    {
     "name": "stdout",
     "output_type": "stream",
     "text": [
      "[[4 5 6]\n",
      " [6 3 9]]= a\n",
      "\n",
      "[[4 6]\n",
      " [5 3]\n",
      " [6 9]]= aT\n",
      "\n",
      "[[6 3 8]\n",
      " [4 5 6]]= b\n",
      "\n",
      "[[6 4]\n",
      " [3 5]\n",
      " [8 6]]= bT\n",
      "\n"
     ]
    }
   ],
   "source": [
    "#transpose of a matrix\n",
    "print(a,end=\"= a\\n\\n\")\n",
    "print(a.T,end=\"= aT\\n\\n\")\n",
    "print(b,end=\"= b\\n\\n\")\n",
    "print(b.T,end=\"= bT\\n\\n\")"
   ]
  },
  {
   "cell_type": "code",
   "execution_count": 44,
   "id": "24b045ec",
   "metadata": {},
   "outputs": [
    {
     "name": "stdout",
     "output_type": "stream",
     "text": [
      "[[1. 0. 0.]\n",
      " [0. 1. 0.]\n",
      " [0. 0. 1.]]\n"
     ]
    }
   ],
   "source": [
    "#creating a identity matrix\n",
    "a1=np.eye(3)\n",
    "print(a1)"
   ]
  },
  {
   "cell_type": "code",
   "execution_count": 45,
   "id": "ce364ab8",
   "metadata": {},
   "outputs": [
    {
     "name": "stdout",
     "output_type": "stream",
     "text": [
      "[[ 3.15251974e+15 -6.30503948e+15  3.15251974e+15]\n",
      " [-6.30503948e+15  1.26100790e+16 -6.30503948e+15]\n",
      " [ 3.15251974e+15 -6.30503948e+15  3.15251974e+15]]\n"
     ]
    }
   ],
   "source": [
    "#inverse of a matrix\n",
    "#given A square matrix a\n",
    "#return a matrix that satisfy dot(a,ainv)=dot(ainv,a)=eye(a.shape[0])\n",
    "a=np.array([[1,2,3],[4,5,6],[7,8,9]])\n",
    "print(np.linalg.inv(a))"
   ]
  },
  {
   "cell_type": "code",
   "execution_count": 54,
   "id": "fdce5516",
   "metadata": {},
   "outputs": [
    {
     "name": "stdout",
     "output_type": "stream",
     "text": [
      "[16.24952679  1.04580033 -3.29532712]\n",
      "\n",
      "[[-0.32749216 -0.76039677 -0.39253044]\n",
      " [-0.6777305   0.59349982 -0.4069124 ]\n",
      " [-0.6583542  -0.26373228  0.82482856]]\n"
     ]
    }
   ],
   "source": [
    "#eigen values and eigen vectors\n",
    "import numpy as np\n",
    "def find_eig(matrix):\n",
    "    if matrix.shape[0]!= matrix.shape[1]:\n",
    "        raise ValueError(\"rows != cols\")\n",
    "    else:\n",
    "        eigenvals,eigenvectors=np.linalg.eig(matrix)\n",
    "        return eigenvals,eigenvectors\n",
    "matrix=np.array([[2,3,4],[3,8,7],[6,9,4]])    \n",
    "eigenvalues,eigenvectors=find_eig(matrix)\n",
    "print(eigenvalues,eigenvectors,sep=\"\\n\\n\")\n"
   ]
  }
 ],
 "metadata": {
  "kernelspec": {
   "display_name": "Python 3 (ipykernel)",
   "language": "python",
   "name": "python3"
  },
  "language_info": {
   "codemirror_mode": {
    "name": "ipython",
    "version": 3
   },
   "file_extension": ".py",
   "mimetype": "text/x-python",
   "name": "python",
   "nbconvert_exporter": "python",
   "pygments_lexer": "ipython3",
   "version": "3.9.12"
  }
 },
 "nbformat": 4,
 "nbformat_minor": 5
}
